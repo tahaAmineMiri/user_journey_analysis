{
 "cells": [
  {
   "cell_type": "code",
   "execution_count": 13,
   "metadata": {},
   "outputs": [],
   "source": [
    "import pandas as pd\n",
    "from collections import Counter\n",
    "from itertools import islice"
   ]
  },
  {
   "cell_type": "code",
   "execution_count": 14,
   "metadata": {},
   "outputs": [
    {
     "data": {
      "text/html": [
       "<div>\n",
       "<style scoped>\n",
       "    .dataframe tbody tr th:only-of-type {\n",
       "        vertical-align: middle;\n",
       "    }\n",
       "\n",
       "    .dataframe tbody tr th {\n",
       "        vertical-align: top;\n",
       "    }\n",
       "\n",
       "    .dataframe thead th {\n",
       "        text-align: right;\n",
       "    }\n",
       "</style>\n",
       "<table border=\"1\" class=\"dataframe\">\n",
       "  <thead>\n",
       "    <tr style=\"text-align: right;\">\n",
       "      <th></th>\n",
       "      <th>user_id</th>\n",
       "      <th>user_journey</th>\n",
       "    </tr>\n",
       "  </thead>\n",
       "  <tbody>\n",
       "    <tr>\n",
       "      <th>0</th>\n",
       "      <td>1516</td>\n",
       "      <td>Homepage-Log in-Other-Other-Sign up-Log in-Log...</td>\n",
       "    </tr>\n",
       "    <tr>\n",
       "      <th>1</th>\n",
       "      <td>3395</td>\n",
       "      <td>Other-Pricing-Sign up-Log in-Homepage-Pricing-...</td>\n",
       "    </tr>\n",
       "    <tr>\n",
       "      <th>2</th>\n",
       "      <td>10107</td>\n",
       "      <td>Homepage-Homepage-Career tracks-Homepage-Caree...</td>\n",
       "    </tr>\n",
       "    <tr>\n",
       "      <th>3</th>\n",
       "      <td>11145</td>\n",
       "      <td>Homepage-Log in-Homepage-Log in-Homepage-Log i...</td>\n",
       "    </tr>\n",
       "    <tr>\n",
       "      <th>4</th>\n",
       "      <td>12400</td>\n",
       "      <td>Homepage-Career tracks-Sign up-Log in-Other-Ca...</td>\n",
       "    </tr>\n",
       "  </tbody>\n",
       "</table>\n",
       "</div>"
      ],
      "text/plain": [
       "   user_id                                       user_journey\n",
       "0     1516  Homepage-Log in-Other-Other-Sign up-Log in-Log...\n",
       "1     3395  Other-Pricing-Sign up-Log in-Homepage-Pricing-...\n",
       "2    10107  Homepage-Homepage-Career tracks-Homepage-Caree...\n",
       "3    11145  Homepage-Log in-Homepage-Log in-Homepage-Log i...\n",
       "4    12400  Homepage-Career tracks-Sign up-Log in-Other-Ca..."
      ]
     },
     "execution_count": 14,
     "metadata": {},
     "output_type": "execute_result"
    }
   ],
   "source": [
    "# Load the preprocessed data\n",
    "df = pd.read_csv('processed_user_journeys.csv')\n",
    "df.head()"
   ]
  },
  {
   "cell_type": "code",
   "execution_count": 15,
   "metadata": {},
   "outputs": [],
   "source": [
    "def page_count(data, target_column='user_journey'):\n",
    "    # Split each journey and count page occurrences\n",
    "    page_counter = Counter()\n",
    "    for journey in data[target_column]:\n",
    "        pages = journey.split('-')\n",
    "        page_counter.update(pages)\n",
    "    \n",
    "    # Convert to DataFrame for easier analysis\n",
    "    page_count_df = pd.DataFrame(page_counter.items(), columns=['Page', 'Count']).sort_values(by='Count', ascending=False)\n",
    "    return page_count_df"
   ]
  },
  {
   "cell_type": "code",
   "execution_count": 16,
   "metadata": {},
   "outputs": [
    {
     "data": {
      "text/html": [
       "<div>\n",
       "<style scoped>\n",
       "    .dataframe tbody tr th:only-of-type {\n",
       "        vertical-align: middle;\n",
       "    }\n",
       "\n",
       "    .dataframe tbody tr th {\n",
       "        vertical-align: top;\n",
       "    }\n",
       "\n",
       "    .dataframe thead th {\n",
       "        text-align: right;\n",
       "    }\n",
       "</style>\n",
       "<table border=\"1\" class=\"dataframe\">\n",
       "  <thead>\n",
       "    <tr style=\"text-align: right;\">\n",
       "      <th></th>\n",
       "      <th>Page</th>\n",
       "      <th>Count</th>\n",
       "    </tr>\n",
       "  </thead>\n",
       "  <tbody>\n",
       "    <tr>\n",
       "      <th>1</th>\n",
       "      <td>Log in</td>\n",
       "      <td>3876</td>\n",
       "    </tr>\n",
       "    <tr>\n",
       "      <th>0</th>\n",
       "      <td>Homepage</td>\n",
       "      <td>2738</td>\n",
       "    </tr>\n",
       "    <tr>\n",
       "      <th>4</th>\n",
       "      <td>Checkout</td>\n",
       "      <td>2064</td>\n",
       "    </tr>\n",
       "    <tr>\n",
       "      <th>2</th>\n",
       "      <td>Other</td>\n",
       "      <td>1763</td>\n",
       "    </tr>\n",
       "    <tr>\n",
       "      <th>3</th>\n",
       "      <td>Sign up</td>\n",
       "      <td>1303</td>\n",
       "    </tr>\n",
       "  </tbody>\n",
       "</table>\n",
       "</div>"
      ],
      "text/plain": [
       "       Page  Count\n",
       "1    Log in   3876\n",
       "0  Homepage   2738\n",
       "4  Checkout   2064\n",
       "2     Other   1763\n",
       "3   Sign up   1303"
      ]
     },
     "execution_count": 16,
     "metadata": {},
     "output_type": "execute_result"
    }
   ],
   "source": [
    "page_counts = page_count(df)\n",
    "page_counts.head()"
   ]
  },
  {
   "cell_type": "code",
   "execution_count": 17,
   "metadata": {},
   "outputs": [],
   "source": [
    "def page_presence(data, target_column='user_journey'):\n",
    "    page_presence_counter = Counter()\n",
    "    for journey in data[target_column]:\n",
    "        unique_pages = set(journey.split('-'))\n",
    "        page_presence_counter.update(unique_pages)\n",
    "    \n",
    "    page_presence_df = pd.DataFrame(page_presence_counter.items(), columns=['Page', 'Presence']).sort_values(by='Presence', ascending=False)\n",
    "    return page_presence_df"
   ]
  },
  {
   "cell_type": "code",
   "execution_count": 18,
   "metadata": {},
   "outputs": [
    {
     "data": {
      "text/html": [
       "<div>\n",
       "<style scoped>\n",
       "    .dataframe tbody tr th:only-of-type {\n",
       "        vertical-align: middle;\n",
       "    }\n",
       "\n",
       "    .dataframe tbody tr th {\n",
       "        vertical-align: top;\n",
       "    }\n",
       "\n",
       "    .dataframe thead th {\n",
       "        text-align: right;\n",
       "    }\n",
       "</style>\n",
       "<table border=\"1\" class=\"dataframe\">\n",
       "  <thead>\n",
       "    <tr style=\"text-align: right;\">\n",
       "      <th></th>\n",
       "      <th>Page</th>\n",
       "      <th>Presence</th>\n",
       "    </tr>\n",
       "  </thead>\n",
       "  <tbody>\n",
       "    <tr>\n",
       "      <th>0</th>\n",
       "      <td>Homepage</td>\n",
       "      <td>843</td>\n",
       "    </tr>\n",
       "    <tr>\n",
       "      <th>5</th>\n",
       "      <td>Checkout</td>\n",
       "      <td>821</td>\n",
       "    </tr>\n",
       "    <tr>\n",
       "      <th>4</th>\n",
       "      <td>Log in</td>\n",
       "      <td>756</td>\n",
       "    </tr>\n",
       "    <tr>\n",
       "      <th>1</th>\n",
       "      <td>Sign up</td>\n",
       "      <td>738</td>\n",
       "    </tr>\n",
       "    <tr>\n",
       "      <th>2</th>\n",
       "      <td>Other</td>\n",
       "      <td>623</td>\n",
       "    </tr>\n",
       "  </tbody>\n",
       "</table>\n",
       "</div>"
      ],
      "text/plain": [
       "       Page  Presence\n",
       "0  Homepage       843\n",
       "5  Checkout       821\n",
       "4    Log in       756\n",
       "1   Sign up       738\n",
       "2     Other       623"
      ]
     },
     "execution_count": 18,
     "metadata": {},
     "output_type": "execute_result"
    }
   ],
   "source": [
    "page_presences = page_presence(df)\n",
    "page_presences.head()"
   ]
  },
  {
   "cell_type": "code",
   "execution_count": 19,
   "metadata": {},
   "outputs": [],
   "source": [
    "def page_destination(data, target_column='user_journey'):\n",
    "    followup_counter = Counter()\n",
    "    for journey in data[target_column]:\n",
    "        pages = journey.split('-')\n",
    "        # Count the follow-up pairs\n",
    "        for i in range(len(pages) - 1):\n",
    "            followup_pair = (pages[i], pages[i + 1])\n",
    "            followup_counter[followup_pair] += 1\n",
    "    \n",
    "    # Convert to DataFrame and sort by frequency\n",
    "    page_destination_df = pd.DataFrame(\n",
    "        [(pair[0], pair[1], count) for pair, count in followup_counter.items()],\n",
    "        columns=['Page', 'Next_Page', 'Frequency']\n",
    "    ).sort_values(by=['Page', 'Frequency'], ascending=[True, False])\n",
    "    return page_destination_df"
   ]
  },
  {
   "cell_type": "code",
   "execution_count": 20,
   "metadata": {},
   "outputs": [
    {
     "data": {
      "text/html": [
       "<div>\n",
       "<style scoped>\n",
       "    .dataframe tbody tr th:only-of-type {\n",
       "        vertical-align: middle;\n",
       "    }\n",
       "\n",
       "    .dataframe tbody tr th {\n",
       "        vertical-align: top;\n",
       "    }\n",
       "\n",
       "    .dataframe thead th {\n",
       "        text-align: right;\n",
       "    }\n",
       "</style>\n",
       "<table border=\"1\" class=\"dataframe\">\n",
       "  <thead>\n",
       "    <tr style=\"text-align: right;\">\n",
       "      <th></th>\n",
       "      <th>Page</th>\n",
       "      <th>Next_Page</th>\n",
       "      <th>Frequency</th>\n",
       "    </tr>\n",
       "  </thead>\n",
       "  <tbody>\n",
       "    <tr>\n",
       "      <th>119</th>\n",
       "      <td>About us</td>\n",
       "      <td>Other</td>\n",
       "      <td>6</td>\n",
       "    </tr>\n",
       "    <tr>\n",
       "      <th>203</th>\n",
       "      <td>About us</td>\n",
       "      <td>Pricing</td>\n",
       "      <td>3</td>\n",
       "    </tr>\n",
       "    <tr>\n",
       "      <th>201</th>\n",
       "      <td>About us</td>\n",
       "      <td>Resources center</td>\n",
       "      <td>2</td>\n",
       "    </tr>\n",
       "    <tr>\n",
       "      <th>215</th>\n",
       "      <td>About us</td>\n",
       "      <td>Homepage</td>\n",
       "      <td>2</td>\n",
       "    </tr>\n",
       "    <tr>\n",
       "      <th>219</th>\n",
       "      <td>About us</td>\n",
       "      <td>About us</td>\n",
       "      <td>2</td>\n",
       "    </tr>\n",
       "    <tr>\n",
       "      <th>199</th>\n",
       "      <td>About us</td>\n",
       "      <td>Sign up</td>\n",
       "      <td>1</td>\n",
       "    </tr>\n",
       "    <tr>\n",
       "      <th>220</th>\n",
       "      <td>About us</td>\n",
       "      <td>Career track certificate</td>\n",
       "      <td>1</td>\n",
       "    </tr>\n",
       "    <tr>\n",
       "      <th>222</th>\n",
       "      <td>About us</td>\n",
       "      <td>Instructors</td>\n",
       "      <td>1</td>\n",
       "    </tr>\n",
       "    <tr>\n",
       "      <th>226</th>\n",
       "      <td>About us</td>\n",
       "      <td>Courses</td>\n",
       "      <td>1</td>\n",
       "    </tr>\n",
       "    <tr>\n",
       "      <th>228</th>\n",
       "      <td>About us</td>\n",
       "      <td>Upcoming courses</td>\n",
       "      <td>1</td>\n",
       "    </tr>\n",
       "    <tr>\n",
       "      <th>232</th>\n",
       "      <td>About us</td>\n",
       "      <td>Success stories</td>\n",
       "      <td>1</td>\n",
       "    </tr>\n",
       "    <tr>\n",
       "      <th>235</th>\n",
       "      <td>About us</td>\n",
       "      <td>Checkout</td>\n",
       "      <td>1</td>\n",
       "    </tr>\n",
       "    <tr>\n",
       "      <th>133</th>\n",
       "      <td>Blog</td>\n",
       "      <td>Log in</td>\n",
       "      <td>1</td>\n",
       "    </tr>\n",
       "    <tr>\n",
       "      <th>43</th>\n",
       "      <td>Career track certificate</td>\n",
       "      <td>Career tracks</td>\n",
       "      <td>173</td>\n",
       "    </tr>\n",
       "    <tr>\n",
       "      <th>122</th>\n",
       "      <td>Career track certificate</td>\n",
       "      <td>Course certificate</td>\n",
       "      <td>37</td>\n",
       "    </tr>\n",
       "    <tr>\n",
       "      <th>167</th>\n",
       "      <td>Career track certificate</td>\n",
       "      <td>Coupon</td>\n",
       "      <td>11</td>\n",
       "    </tr>\n",
       "    <tr>\n",
       "      <th>216</th>\n",
       "      <td>Courses</td>\n",
       "      <td>Blog</td>\n",
       "      <td>2</td>\n",
       "    </tr>\n",
       "  </tbody>\n",
       "</table>\n",
       "</div>"
      ],
      "text/plain": [
       "                         Page                 Next_Page  Frequency\n",
       "119                  About us                     Other          6\n",
       "203                  About us                   Pricing          3\n",
       "201                  About us          Resources center          2\n",
       "215                  About us                  Homepage          2\n",
       "219                  About us                  About us          2\n",
       "199                  About us                   Sign up          1\n",
       "220                  About us  Career track certificate          1\n",
       "222                  About us               Instructors          1\n",
       "226                  About us                   Courses          1\n",
       "228                  About us          Upcoming courses          1\n",
       "232                  About us           Success stories          1\n",
       "235                  About us                  Checkout          1\n",
       "133                      Blog                    Log in          1\n",
       "43   Career track certificate             Career tracks        173\n",
       "122  Career track certificate        Course certificate         37\n",
       "167  Career track certificate                    Coupon         11\n",
       "216                   Courses                      Blog          2"
      ]
     },
     "execution_count": 20,
     "metadata": {},
     "output_type": "execute_result"
    }
   ],
   "source": [
    "page_destinations = page_destination(df)\n",
    "\n",
    "# Remove duplicates based on the 'Next_Page' column\n",
    "unique_page_destinations = page_destinations.drop_duplicates(subset=['Next_Page'])\n",
    "\n",
    "# Display the dataframe\n",
    "unique_page_destinations"
   ]
  },
  {
   "cell_type": "code",
   "execution_count": 21,
   "metadata": {},
   "outputs": [],
   "source": [
    "def page_sequences(data, target_column='user_journey', sequence_length=3):\n",
    "    sequence_counter = Counter()\n",
    "    for journey in data[target_column]:\n",
    "        pages = journey.split('-')\n",
    "        unique_sequences = set(tuple(pages[i:i + sequence_length]) for i in range(len(pages) - sequence_length + 1))\n",
    "        sequence_counter.update(unique_sequences)\n",
    "    \n",
    "    # Convert to DataFrame and sort by frequency\n",
    "    sequence_df = pd.DataFrame(\n",
    "        [(sequence, count) for sequence, count in sequence_counter.items()],\n",
    "        columns=['Sequence', 'Frequency']\n",
    "    ).sort_values(by='Frequency', ascending=False)\n",
    "    return sequence_df"
   ]
  },
  {
   "cell_type": "code",
   "execution_count": 22,
   "metadata": {},
   "outputs": [
    {
     "data": {
      "text/html": [
       "<div>\n",
       "<style scoped>\n",
       "    .dataframe tbody tr th:only-of-type {\n",
       "        vertical-align: middle;\n",
       "    }\n",
       "\n",
       "    .dataframe tbody tr th {\n",
       "        vertical-align: top;\n",
       "    }\n",
       "\n",
       "    .dataframe thead th {\n",
       "        text-align: right;\n",
       "    }\n",
       "</style>\n",
       "<table border=\"1\" class=\"dataframe\">\n",
       "  <thead>\n",
       "    <tr style=\"text-align: right;\">\n",
       "      <th></th>\n",
       "      <th>Sequence</th>\n",
       "      <th>Frequency</th>\n",
       "    </tr>\n",
       "  </thead>\n",
       "  <tbody>\n",
       "    <tr>\n",
       "      <th>1</th>\n",
       "      <td>(Log in, Homepage, Log in)</td>\n",
       "      <td>220</td>\n",
       "    </tr>\n",
       "    <tr>\n",
       "      <th>59</th>\n",
       "      <td>(Log in, Log in, Log in)</td>\n",
       "      <td>198</td>\n",
       "    </tr>\n",
       "    <tr>\n",
       "      <th>35</th>\n",
       "      <td>(Homepage, Log in, Checkout)</td>\n",
       "      <td>192</td>\n",
       "    </tr>\n",
       "    <tr>\n",
       "      <th>0</th>\n",
       "      <td>(Log in, Checkout, Checkout)</td>\n",
       "      <td>186</td>\n",
       "    </tr>\n",
       "    <tr>\n",
       "      <th>6</th>\n",
       "      <td>(Log in, Log in, Checkout)</td>\n",
       "      <td>167</td>\n",
       "    </tr>\n",
       "  </tbody>\n",
       "</table>\n",
       "</div>"
      ],
      "text/plain": [
       "                        Sequence  Frequency\n",
       "1     (Log in, Homepage, Log in)        220\n",
       "59      (Log in, Log in, Log in)        198\n",
       "35  (Homepage, Log in, Checkout)        192\n",
       "0   (Log in, Checkout, Checkout)        186\n",
       "6     (Log in, Log in, Checkout)        167"
      ]
     },
     "execution_count": 22,
     "metadata": {},
     "output_type": "execute_result"
    }
   ],
   "source": [
    "sequences = page_sequences(df, sequence_length=3)\n",
    "sequences.head()"
   ]
  },
  {
   "cell_type": "code",
   "execution_count": 23,
   "metadata": {},
   "outputs": [],
   "source": [
    "def journey_length(data, target_column='user_journey'):\n",
    "    lengths = [len(journey.split('-')) for journey in data[target_column]]\n",
    "    average_length = sum(lengths) / len(lengths) if lengths else 0\n",
    "    return average_length"
   ]
  },
  {
   "cell_type": "code",
   "execution_count": 24,
   "metadata": {},
   "outputs": [
    {
     "name": "stdout",
     "output_type": "stream",
     "text": [
      "Average Journey Length: 13.134074074074075\n"
     ]
    }
   ],
   "source": [
    "average_journey_length = journey_length(df)\n",
    "print(f\"Average Journey Length: {average_journey_length}\")"
   ]
  },
  {
   "cell_type": "code",
   "execution_count": 25,
   "metadata": {},
   "outputs": [
    {
     "name": "stdout",
     "output_type": "stream",
     "text": [
      "Page Counts:\n",
      "                         Page  Count\n",
      "1                     Log in   3876\n",
      "0                   Homepage   2738\n",
      "4                   Checkout   2064\n",
      "2                      Other   1763\n",
      "3                    Sign up   1303\n",
      "9                    Courses   1187\n",
      "7              Career tracks   1135\n",
      "6                    Pricing   1094\n",
      "5                     Coupon   1041\n",
      "8           Resources center    580\n",
      "10  Career track certificate    481\n",
      "12        Course certificate    217\n",
      "14          Upcoming courses    114\n",
      "13           Success stories     53\n",
      "11               Instructors     43\n",
      "15                  About us     22\n",
      "16                      Blog     20\n",
      "\n",
      "Page Presences:\n",
      "                         Page  Presence\n",
      "0                   Homepage       843\n",
      "5                   Checkout       821\n",
      "4                     Log in       756\n",
      "1                    Sign up       738\n",
      "2                      Other       623\n",
      "3                     Coupon       606\n",
      "6                    Pricing       476\n",
      "7                    Courses       453\n",
      "8              Career tracks       380\n",
      "10  Career track certificate       228\n",
      "9           Resources center       184\n",
      "12        Course certificate       151\n",
      "14          Upcoming courses        83\n",
      "13           Success stories        38\n",
      "11               Instructors        25\n",
      "15                  About us        17\n",
      "16                      Blog        13\n",
      "\n",
      "Page Destinations:\n",
      "                  Page         Next_Page  Frequency\n",
      "119          About us             Other          6\n",
      "203          About us           Pricing          3\n",
      "201          About us  Resources center          2\n",
      "215          About us          Homepage          2\n",
      "219          About us          About us          2\n",
      "..                ...               ...        ...\n",
      "212  Upcoming courses            Coupon          4\n",
      "106  Upcoming courses            Log in          2\n",
      "153  Upcoming courses   Success stories          2\n",
      "221  Upcoming courses          About us          1\n",
      "229  Upcoming courses           Sign up          1\n",
      "\n",
      "[237 rows x 3 columns]\n",
      "\n",
      "Most Common Sequences:\n",
      "                                   Sequence  Frequency\n",
      "1               (Log in, Homepage, Log in)        220\n",
      "59                (Log in, Log in, Log in)        198\n",
      "35            (Homepage, Log in, Checkout)        192\n",
      "0             (Log in, Checkout, Checkout)        186\n",
      "6               (Log in, Log in, Checkout)        167\n",
      "...                                    ...        ...\n",
      "1037             (Coupon, Coupon, Courses)          1\n",
      "1038  (Success stories, Homepage, Sign up)          1\n",
      "1039   (Success stories, Log in, Homepage)          1\n",
      "1041    (Pricing, Success stories, Log in)          1\n",
      "1512   (Homepage, Upcoming courses, Other)          1\n",
      "\n",
      "[1513 rows x 2 columns]\n",
      "\n",
      "Average Journey Length: 13.134074074074075\n"
     ]
    }
   ],
   "source": [
    "# Run all metrics\n",
    "page_counts = page_count(df)\n",
    "page_presences = page_presence(df)\n",
    "page_destinations = page_destination(df)\n",
    "sequences = page_sequences(df, sequence_length=3)\n",
    "average_journey_length = journey_length(df)\n",
    "\n",
    "# Display results\n",
    "print(\"Page Counts:\\n\", page_counts)\n",
    "print(\"\\nPage Presences:\\n\", page_presences)\n",
    "print(\"\\nPage Destinations:\\n\", page_destinations)\n",
    "print(\"\\nMost Common Sequences:\\n\", sequences)\n",
    "print(f\"\\nAverage Journey Length: {average_journey_length}\")"
   ]
  },
  {
   "cell_type": "code",
   "execution_count": 26,
   "metadata": {},
   "outputs": [],
   "source": [
    "from functions import group_by"
   ]
  },
  {
   "cell_type": "markdown",
   "metadata": {},
   "source": [
    "# Answer Questions"
   ]
  },
  {
   "cell_type": "markdown",
   "metadata": {},
   "source": [
    "Q1 : What is the average length of a user journey if you consider just the last three sessions?"
   ]
  },
  {
   "cell_type": "code",
   "execution_count": 27,
   "metadata": {},
   "outputs": [
    {
     "data": {
      "text/plain": [
       "1350"
      ]
     },
     "execution_count": 27,
     "metadata": {},
     "output_type": "execute_result"
    }
   ],
   "source": [
    "# Group only the first three sessions\n",
    "grouped_data_first3 = group_by(df, sessions=3, count_from='first')\n",
    "\n",
    "# Count the number of records\n",
    "record_count = len(grouped_data_first3)\n",
    "record_count"
   ]
  },
  {
   "cell_type": "markdown",
   "metadata": {},
   "source": [
    "Q2 : What is the 3rd most popular page for quarterly users? (Consider all sessions and pages.)"
   ]
  },
  {
   "cell_type": "code",
   "execution_count": null,
   "metadata": {},
   "outputs": [],
   "source": [
    "# Answer"
   ]
  },
  {
   "cell_type": "markdown",
   "metadata": {},
   "source": [
    "Q3 : What is the 4th most popular page after the user has been on Pricing? (Consider all plans, sessions, and pages.)"
   ]
  },
  {
   "cell_type": "code",
   "execution_count": null,
   "metadata": {},
   "outputs": [
    {
     "data": {
      "text/plain": [
       "Page         Pricing\n",
       "Next_Page    Courses\n",
       "Frequency        112\n",
       "Name: 46, dtype: object"
      ]
     },
     "execution_count": 31,
     "metadata": {},
     "output_type": "execute_result"
    }
   ],
   "source": [
    "# Get page destinations\n",
    "page_destinations = page_destination(df)\n",
    "\n",
    "# Filter for follow-ups after \"Pricing\" and sort by frequency\n",
    "pricing_followups = page_destinations[page_destinations['Page'] == 'Pricing']\n",
    "sorted_followups = pricing_followups.sort_values(by='Frequency', ascending=False)\n",
    "fourth_most_popular_after_pricing = sorted_followups.iloc[3]  # Index 3 gives the 4th most popular\n",
    "fourth_most_popular_after_pricing"
   ]
  },
  {
   "cell_type": "markdown",
   "metadata": {},
   "source": [
    "Q4 : What is the average length of a user journey if you consider just the last three sessions?"
   ]
  },
  {
   "cell_type": "code",
   "execution_count": 32,
   "metadata": {},
   "outputs": [
    {
     "data": {
      "text/plain": [
       "13.134074074074075"
      ]
     },
     "execution_count": 32,
     "metadata": {},
     "output_type": "execute_result"
    }
   ],
   "source": [
    "# Group only the last three sessions\n",
    "grouped_data_last3 = group_by(df, sessions=3, count_from='last')\n",
    "\n",
    "# Calculate average journey length\n",
    "average_length = journey_length(grouped_data_last3)\n",
    "average_length"
   ]
  },
  {
   "cell_type": "markdown",
   "metadata": {},
   "source": [
    "Q5 : What is the page with the 4th highest presence in the last three sessions of journeys (not the absolute number of page visits)?"
   ]
  },
  {
   "cell_type": "code",
   "execution_count": 33,
   "metadata": {},
   "outputs": [
    {
     "data": {
      "text/plain": [
       "Page        Sign up\n",
       "Presence        738\n",
       "Name: 1, dtype: object"
      ]
     },
     "execution_count": 33,
     "metadata": {},
     "output_type": "execute_result"
    }
   ],
   "source": [
    "# Group by last three sessions\n",
    "grouped_data_last3 = group_by(df, sessions=3, count_from='last')\n",
    "\n",
    "# Calculate page presence\n",
    "page_presences = page_presence(grouped_data_last3)\n",
    "sorted_presence = page_presences.sort_values(by='Presence', ascending=False)\n",
    "fourth_highest_presence = sorted_presence.iloc[3]  # Index 3 gives the 4th highest\n",
    "fourth_highest_presence"
   ]
  },
  {
   "cell_type": "markdown",
   "metadata": {},
   "source": [
    "Q6 : In how many journeys is the most popular sequence of 4 pages encountered (last 3 sessions, all plans)?"
   ]
  },
  {
   "cell_type": "code",
   "execution_count": 34,
   "metadata": {},
   "outputs": [
    {
     "name": "stdout",
     "output_type": "stream",
     "text": [
      "Sequence     (Log in, Log in, Log in, Log in)\n",
      "Frequency                                 137\n",
      "Name: 67, dtype: object\n"
     ]
    }
   ],
   "source": [
    "# Group by last three sessions\n",
    "grouped_data_last3 = group_by(df, sessions=3, count_from='last')\n",
    "\n",
    "# Calculate 4-page sequences\n",
    "sequences = page_sequences(grouped_data_last3, sequence_length=4)\n",
    "most_popular_sequence = sequences.iloc[0]  # Index 0 gives the most popular sequence\n",
    "print(most_popular_sequence)\n"
   ]
  },
  {
   "cell_type": "code",
   "execution_count": null,
   "metadata": {},
   "outputs": [],
   "source": []
  }
 ],
 "metadata": {
  "kernelspec": {
   "display_name": "Python 3",
   "language": "python",
   "name": "python3"
  },
  "language_info": {
   "codemirror_mode": {
    "name": "ipython",
    "version": 3
   },
   "file_extension": ".py",
   "mimetype": "text/x-python",
   "name": "python",
   "nbconvert_exporter": "python",
   "pygments_lexer": "ipython3",
   "version": "3.10.11"
  }
 },
 "nbformat": 4,
 "nbformat_minor": 2
}
